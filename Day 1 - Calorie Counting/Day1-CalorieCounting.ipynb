{
 "cells": [
  {
   "cell_type": "markdown",
   "metadata": {},
   "source": [
    "### Part 1\n",
    "\n",
    "*Find the Elf carrying the most Calories. How many total Calories is that Elf carrying?*"
   ]
  },
  {
   "cell_type": "code",
   "execution_count": 18,
   "metadata": {},
   "outputs": [],
   "source": [
    "def create_list():\n",
    "\n",
    "    all_elves = []\n",
    "    this_elf = []\n",
    "\n",
    "    with open('input.txt', 'r') as f:\n",
    "        for line in f.readlines():\n",
    "            line = line.rstrip()\n",
    "            if len(line) == 0:\n",
    "                all_elves.append(this_elf)\n",
    "                this_elf = []\n",
    "            else:\n",
    "                this_elf.append(int(line))\n",
    "    \n",
    "    return all_elves\n",
    "\n",
    "def create_sum(all_elves):\n",
    "    elves_sum = []\n",
    "    for elf in all_elves:\n",
    "        total = sum(elf)\n",
    "        elves_sum.append(total)\n",
    "    return elves_sum"
   ]
  },
  {
   "cell_type": "code",
   "execution_count": 20,
   "metadata": {},
   "outputs": [
    {
     "data": {
      "text/plain": [
       "71502"
      ]
     },
     "execution_count": 20,
     "metadata": {},
     "output_type": "execute_result"
    }
   ],
   "source": [
    "max(create_sum(create_list()))"
   ]
  },
  {
   "cell_type": "markdown",
   "metadata": {},
   "source": [
    "### Part 2\n",
    "\n",
    "*Find the top three Elves carrying the most Calories. How many Calories are those Elves carrying in total?*"
   ]
  },
  {
   "cell_type": "code",
   "execution_count": 47,
   "metadata": {},
   "outputs": [],
   "source": [
    "def calculate_top_N(N):\n",
    "    ordered_list = sorted(create_sum(create_list()))\n",
    "    ordered_list.reverse()\n",
    "    s = []\n",
    "    for e in ordered_list[:N]:\n",
    "        s.append(e)\n",
    "    return sum(s)"
   ]
  },
  {
   "cell_type": "code",
   "execution_count": 48,
   "metadata": {},
   "outputs": [
    {
     "data": {
      "text/plain": [
       "208191"
      ]
     },
     "execution_count": 48,
     "metadata": {},
     "output_type": "execute_result"
    }
   ],
   "source": [
    "calculate_top_N(3)"
   ]
  }
 ],
 "metadata": {
  "kernelspec": {
   "display_name": "Python 3.10.0 64-bit",
   "language": "python",
   "name": "python3"
  },
  "language_info": {
   "codemirror_mode": {
    "name": "ipython",
    "version": 3
   },
   "file_extension": ".py",
   "mimetype": "text/x-python",
   "name": "python",
   "nbconvert_exporter": "python",
   "pygments_lexer": "ipython3",
   "version": "3.10.0"
  },
  "orig_nbformat": 4,
  "vscode": {
   "interpreter": {
    "hash": "20ae1e9be96507da0a7fea2b168ac9de27cae9fa0084b35a7bd5c7bdc08eebfc"
   }
  }
 },
 "nbformat": 4,
 "nbformat_minor": 2
}
