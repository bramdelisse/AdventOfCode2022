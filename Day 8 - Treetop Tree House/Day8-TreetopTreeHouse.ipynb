{
 "cells": [
  {
   "cell_type": "code",
   "execution_count": 15,
   "metadata": {},
   "outputs": [],
   "source": [
    "def create_matrix():\n",
    "    matrix = []\n",
    "    with open(\"input.txt\") as f:\n",
    "        lines = f.readlines()\n",
    "        for line in lines:\n",
    "            row = []\n",
    "            line = line.rstrip()\n",
    "            for t in line:\n",
    "                row.append(t)\n",
    "            matrix.append(row)\n",
    "    return matrix\n",
    "\n",
    "def visible_top(r,c, matrix):\n",
    "    for i in range(r):\n",
    "        if matrix[i][c] >= matrix[r][c]:\n",
    "            return False\n",
    "    return True\n",
    "\n",
    "def visible_bottom(r,c, matrix):\n",
    "    for i in range(len(matrix))[r:]:\n",
    "        if matrix[i][c] >= matrix[r][c]:\n",
    "            return False\n",
    "    return True\n",
    "\n",
    "def visible_left(r,c, matrix):\n",
    "    for i in range(c):\n",
    "        if matrix[r][i] >= matrix[r][c]:\n",
    "            return False\n",
    "    return True\n",
    "\n",
    "def visible_right(r,c, matrix):\n",
    "    for i in range(len(matrix))[c:]:\n",
    "        if matrix[r][i] >= matrix[r][c]:\n",
    "            return False\n",
    "    return True\n",
    "\n",
    "def check_visibility(r,c, matrix):\n",
    "    if visible_top(r,c, matrix): return True\n",
    "    if visible_bottom(r,c, matrix): return True\n",
    "    if visible_left(r,c, matrix): return True\n",
    "    if visible_right(r,c, matrix): return True\n",
    "    return False"
   ]
  },
  {
   "cell_type": "code",
   "execution_count": 16,
   "metadata": {},
   "outputs": [
    {
     "name": "stdout",
     "output_type": "stream",
     "text": [
      "There are 977 trees visible\n"
     ]
    }
   ],
   "source": [
    "matrix = create_matrix()\n",
    "rows = range(len(matrix))\n",
    "columns = range(len(matrix[1]))\n",
    "\n",
    "visible = 0\n",
    "for r in rows:\n",
    "  for c in columns:\n",
    "      if check_visibility(r,c,matrix):\n",
    "          visible += 1\n",
    "print(f\"There are {visible} trees visible\")"
   ]
  },
  {
   "cell_type": "code",
   "execution_count": null,
   "metadata": {},
   "outputs": [],
   "source": []
  }
 ],
 "metadata": {
  "kernelspec": {
   "display_name": "Python 3.10.0 64-bit",
   "language": "python",
   "name": "python3"
  },
  "language_info": {
   "codemirror_mode": {
    "name": "ipython",
    "version": 3
   },
   "file_extension": ".py",
   "mimetype": "text/x-python",
   "name": "python",
   "nbconvert_exporter": "python",
   "pygments_lexer": "ipython3",
   "version": "3.10.0"
  },
  "orig_nbformat": 4,
  "vscode": {
   "interpreter": {
    "hash": "20ae1e9be96507da0a7fea2b168ac9de27cae9fa0084b35a7bd5c7bdc08eebfc"
   }
  }
 },
 "nbformat": 4,
 "nbformat_minor": 2
}
