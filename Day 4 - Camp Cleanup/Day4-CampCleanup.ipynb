{
 "cells": [
  {
   "cell_type": "markdown",
   "metadata": {},
   "source": [
    "# Day 4: Camp Cleanup"
   ]
  },
  {
   "cell_type": "markdown",
   "metadata": {},
   "source": [
    "### Part 1\n",
    "\n",
    "*In how many assignment pairs does one range fully contain the other?*"
   ]
  },
  {
   "cell_type": "code",
   "execution_count": 34,
   "metadata": {},
   "outputs": [
    {
     "data": {
      "text/plain": [
       "507"
      ]
     },
     "execution_count": 34,
     "metadata": {},
     "output_type": "execute_result"
    }
   ],
   "source": [
    "with open(\"input.txt\") as f:\n",
    "    lines = f.readlines()\n",
    "    s = 0\n",
    "    for line in lines:\n",
    "        e1, e2 = line.split(',')\n",
    "        e1a, e1b = e1.split('-')\n",
    "        e2a, e2b = e2.split('-')\n",
    "        \n",
    "        s1 = set(range(int(e1b)+1)) - set(range(int(e1a)))\n",
    "        s2 = set(range(int(e2b)+1)) - set(range(int(e2a)))\n",
    "\n",
    "        if not s2.difference(s1) or not s1.difference(s2):\n",
    "            s += 1\n",
    "s"
   ]
  },
  {
   "cell_type": "markdown",
   "metadata": {},
   "source": [
    "### Part 2\n",
    "\n",
    "*In how many assignment pairs do the ranges overlap?*"
   ]
  },
  {
   "cell_type": "code",
   "execution_count": 43,
   "metadata": {},
   "outputs": [
    {
     "data": {
      "text/plain": [
       "897"
      ]
     },
     "execution_count": 43,
     "metadata": {},
     "output_type": "execute_result"
    }
   ],
   "source": [
    "with open(\"input.txt\") as f:\n",
    "    lines = f.readlines()\n",
    "    s = 0\n",
    "    for line in lines:\n",
    "        e1, e2 = line.split(',')\n",
    "        e1a, e1b = e1.split('-')\n",
    "        e2a, e2b = e2.split('-')\n",
    "        \n",
    "        s1 = set(range(int(e1b)+1)) - set(range(int(e1a)))\n",
    "        s2 = set(range(int(e2b)+1)) - set(range(int(e2a)))\n",
    "\n",
    "        if s1.intersection(s2):\n",
    "            s += 1\n",
    "s"
   ]
  },
  {
   "cell_type": "markdown",
   "metadata": {},
   "source": [
    "## What did I learn?"
   ]
  },
  {
   "cell_type": "markdown",
   "metadata": {},
   "source": [
    "- Again, I saw the power of sets"
   ]
  }
 ],
 "metadata": {
  "kernelspec": {
   "display_name": "Python 3.10.0 64-bit",
   "language": "python",
   "name": "python3"
  },
  "language_info": {
   "codemirror_mode": {
    "name": "ipython",
    "version": 3
   },
   "file_extension": ".py",
   "mimetype": "text/x-python",
   "name": "python",
   "nbconvert_exporter": "python",
   "pygments_lexer": "ipython3",
   "version": "3.10.0"
  },
  "orig_nbformat": 4,
  "vscode": {
   "interpreter": {
    "hash": "20ae1e9be96507da0a7fea2b168ac9de27cae9fa0084b35a7bd5c7bdc08eebfc"
   }
  }
 },
 "nbformat": 4,
 "nbformat_minor": 2
}
