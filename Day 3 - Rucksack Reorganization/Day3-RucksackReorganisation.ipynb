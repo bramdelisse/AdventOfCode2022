{
 "cells": [
  {
   "cell_type": "markdown",
   "metadata": {},
   "source": [
    "# Day 3: Rucksack Reorganization"
   ]
  },
  {
   "cell_type": "markdown",
   "metadata": {},
   "source": [
    "### Part 1\n",
    "*Find the item type that appears in both compartments of each rucksack. What is the sum of the priorities of those item types?*"
   ]
  },
  {
   "cell_type": "code",
   "execution_count": 30,
   "metadata": {},
   "outputs": [
    {
     "name": "stdout",
     "output_type": "stream",
     "text": [
      "Total sum of priorities: 7691\n"
     ]
    }
   ],
   "source": [
    "# function to create dictionary of priorities\n",
    "# A: 65 | a: 97\n",
    "def create_dict_prio():\n",
    "    dict_prio = {}\n",
    "    for i in range(26):\n",
    "        lowercase = chr(i+97)\n",
    "        capital = chr(i+65)\n",
    "        dict_prio[lowercase] = i+1\n",
    "        dict_prio[capital] = i+27\n",
    "    return dict_prio\n",
    "\n",
    "# create function to find double character in line\n",
    "def find_double(line):\n",
    "    line = line.rstrip()\n",
    "    l = int(len(line)/2)\n",
    "    line1 = line[:l]\n",
    "    line2 = line[l:]\n",
    "\n",
    "    set1, set2 = set(line1), set(line2)\n",
    "    setC = set1|set2\n",
    "    set1M = set1-set2\n",
    "    set2M = set2-set1\n",
    "    double = list(setC - set1M - set2M)[0]\n",
    "\n",
    "    return double\n",
    "\n",
    "# function to read through lines and finds the dubble character\n",
    "def sum_priority():\n",
    "    dict_prio = create_dict_prio()\n",
    "    sum_prio = 0\n",
    "    with open(\"input.txt\") as f:\n",
    "        for line in f.readlines():\n",
    "            double = find_double(line)\n",
    "            sum_prio += dict_prio[double]\n",
    "    print(\"Total sum of priorities:\", sum_prio)\n",
    "    return sum_prio\n",
    "\n",
    "    # function to use dictionary to output priority of item\n",
    "\n",
    "sum_prio = sum_priority()"
   ]
  },
  {
   "cell_type": "markdown",
   "metadata": {},
   "source": [
    "### Part 2"
   ]
  },
  {
   "cell_type": "code",
   "execution_count": 46,
   "metadata": {},
   "outputs": [
    {
     "name": "stdout",
     "output_type": "stream",
     "text": [
      "Sum of priorities of the badges:  2508\n"
     ]
    }
   ],
   "source": [
    "def sum_prio_group():\n",
    "    dict_prio = create_dict_prio()\n",
    "    sum_prio = 0\n",
    "    with open(\"input.txt\") as f:\n",
    "        lines = f.readlines()\n",
    "        for i in range(int(len(lines)/3)):\n",
    "            sub_lines = lines[i*3:i*3+3]\n",
    "            set0 = set(sub_lines[0].rstrip())\n",
    "            set1 = set(sub_lines[1].rstrip())\n",
    "            set2 = set(sub_lines[2].rstrip())\n",
    "\n",
    "            setc = set0.intersection(set1)\n",
    "            badge = setc.intersection(set2)\n",
    "            badge = list(badge)[0]\n",
    "\n",
    "            sum_prio += dict_prio[badge]\n",
    "    print(\"Sum of priorities of the badges: \", sum_prio)\n",
    "\n",
    "sum_prio_group()"
   ]
  },
  {
   "cell_type": "markdown",
   "metadata": {},
   "source": [
    "## What did I learn?"
   ]
  },
  {
   "cell_type": "markdown",
   "metadata": {},
   "source": [
    "- I worked with sets in Python for the first time, later I learned the ```.intersection()``` method, which I think is really useful\n",
    "- I revisited the ```chr()``` function, to easily make the priority dictionary"
   ]
  },
  {
   "cell_type": "markdown",
   "metadata": {},
   "source": []
  }
 ],
 "metadata": {
  "kernelspec": {
   "display_name": "Python 3.10.0 64-bit",
   "language": "python",
   "name": "python3"
  },
  "language_info": {
   "codemirror_mode": {
    "name": "ipython",
    "version": 3
   },
   "file_extension": ".py",
   "mimetype": "text/x-python",
   "name": "python",
   "nbconvert_exporter": "python",
   "pygments_lexer": "ipython3",
   "version": "3.10.0"
  },
  "orig_nbformat": 4,
  "vscode": {
   "interpreter": {
    "hash": "20ae1e9be96507da0a7fea2b168ac9de27cae9fa0084b35a7bd5c7bdc08eebfc"
   }
  }
 },
 "nbformat": 4,
 "nbformat_minor": 2
}
