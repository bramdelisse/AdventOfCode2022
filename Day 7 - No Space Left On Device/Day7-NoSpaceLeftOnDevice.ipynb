{
 "cells": [
  {
   "attachments": {},
   "cell_type": "markdown",
   "metadata": {},
   "source": [
    "# Day 7: No Space Left On Device"
   ]
  },
  {
   "attachments": {},
   "cell_type": "markdown",
   "metadata": {},
   "source": [
    "### Part 1\n",
    "\n",
    "*Find all of the directories with a total size of at most 100000. What is the sum of the total sizes of those directories?*"
   ]
  },
  {
   "cell_type": "code",
   "execution_count": 2,
   "metadata": {},
   "outputs": [],
   "source": [
    "# create system directory\n",
    "def create_file_dir():\n",
    "    with open(\"input.txt\") as f:\n",
    "        lines = f.readlines()\n",
    "        d = {}\n",
    "\n",
    "        # iterate through input\n",
    "        for i in range(len(lines)):\n",
    "            line = lines[i].rstrip()\n",
    "\n",
    "            # if ls is called\n",
    "            if \"$ ls\" in line:\n",
    "                dir = lines[i-1][5:-1]\n",
    "\n",
    "                # find elements in dir\n",
    "                e = 1\n",
    "                sub = []\n",
    "                while True:\n",
    "                    if i+e == len(lines):\n",
    "                        break\n",
    "                    if \"$\" not in lines[i+e]:\n",
    "                        sub.append(lines[i+e].rstrip())\n",
    "                        e += 1\n",
    "                    else:\n",
    "                        break\n",
    "                d[dir] = sub\n",
    "    return d"
   ]
  },
  {
   "cell_type": "code",
   "execution_count": 3,
   "metadata": {},
   "outputs": [],
   "source": [
    "##### CREATE OVERVIEW #####\n",
    "# Create overview of the system where each directory can be a list, and a file can be an integer representing the file size [f1234]\n",
    "# if \"$ ls\", check name dir above + elements listed in dir -> create dict element\n",
    "file_dir = create_file_dir()\n",
    "\n",
    "\n",
    "##### DIRECTORY SIZE #####\n",
    "# Create a function that goes inwards -> outwards and adds directory size as an integer as first element of the directory & removes files\n",
    "\n",
    "\n",
    "\n",
    "##### SUM DIRECTORY SIZE #####\n",
    "# Function that goes through the list of directories, and sums all integers < 100000"
   ]
  },
  {
   "cell_type": "code",
   "execution_count": 21,
   "metadata": {},
   "outputs": [],
   "source": [
    "def check_no_subdir(dir):\n",
    "    for e in dir:\n",
    "        if type(e) == int: break\n",
    "        if \"dir \" in e: return False\n",
    "    return True\n",
    "\n",
    "def replace_with_size(dir):\n",
    "    size_sum = 0\n",
    "    for e in dir:\n",
    "        if type(e) == int:\n",
    "            size_sum += e\n",
    "        else:\n",
    "            size = int(e.split(\" \")[0])\n",
    "            size_sum += size\n",
    "    return size_sum\n",
    "\n",
    "def replace_subdir_with_size(dir, dirs_with_size):\n",
    "    i = 0\n",
    "    for e in dir:\n",
    "        subdir = e.split(\" \")[1]\n",
    "        if subdir in dirs_with_size:\n",
    "            file_dir[dir][i] = file_dir[subdir]\n",
    "        i += 1\n",
    "    return False"
   ]
  },
  {
   "cell_type": "code",
   "execution_count": 22,
   "metadata": {},
   "outputs": [
    {
     "ename": "ValueError",
     "evalue": "invalid literal for int() with base 10: 'dir'",
     "output_type": "error",
     "traceback": [
      "\u001b[1;31m---------------------------------------------------------------------------\u001b[0m",
      "\u001b[1;31mValueError\u001b[0m                                Traceback (most recent call last)",
      "\u001b[1;32m~\\AppData\\Local\\Temp/ipykernel_15712/4245025488.py\u001b[0m in \u001b[0;36m<module>\u001b[1;34m\u001b[0m\n\u001b[0;32m     11\u001b[0m     \u001b[1;32mfor\u001b[0m \u001b[0mdir\u001b[0m \u001b[1;32min\u001b[0m \u001b[0mfile_dir\u001b[0m\u001b[1;33m:\u001b[0m\u001b[1;33m\u001b[0m\u001b[1;33m\u001b[0m\u001b[0m\n\u001b[0;32m     12\u001b[0m         \u001b[1;32mif\u001b[0m \u001b[1;32mnot\u001b[0m \u001b[0mtype\u001b[0m\u001b[1;33m(\u001b[0m\u001b[0mfile_dir\u001b[0m\u001b[1;33m[\u001b[0m\u001b[0mdir\u001b[0m\u001b[1;33m]\u001b[0m\u001b[1;33m)\u001b[0m \u001b[1;33m==\u001b[0m \u001b[0mint\u001b[0m \u001b[1;32mand\u001b[0m \u001b[0mcheck_no_subdir\u001b[0m\u001b[1;33m(\u001b[0m\u001b[0mfile_dir\u001b[0m\u001b[1;33m[\u001b[0m\u001b[0mdir\u001b[0m\u001b[1;33m]\u001b[0m\u001b[1;33m)\u001b[0m\u001b[1;33m:\u001b[0m\u001b[1;33m\u001b[0m\u001b[1;33m\u001b[0m\u001b[0m\n\u001b[1;32m---> 13\u001b[1;33m             \u001b[0mfile_dir\u001b[0m\u001b[1;33m[\u001b[0m\u001b[0mdir\u001b[0m\u001b[1;33m]\u001b[0m \u001b[1;33m=\u001b[0m \u001b[0mreplace_with_size\u001b[0m\u001b[1;33m(\u001b[0m\u001b[0mfile_dir\u001b[0m\u001b[1;33m[\u001b[0m\u001b[0mdir\u001b[0m\u001b[1;33m]\u001b[0m\u001b[1;33m)\u001b[0m\u001b[1;33m\u001b[0m\u001b[1;33m\u001b[0m\u001b[0m\n\u001b[0m\u001b[0;32m     14\u001b[0m             \u001b[0mdirs_with_size\u001b[0m\u001b[1;33m.\u001b[0m\u001b[0mappend\u001b[0m\u001b[1;33m(\u001b[0m\u001b[0mdir\u001b[0m\u001b[1;33m)\u001b[0m\u001b[1;33m\u001b[0m\u001b[1;33m\u001b[0m\u001b[0m\n\u001b[0;32m     15\u001b[0m         \u001b[1;31m# print(dirs_with_size)\u001b[0m\u001b[1;33m\u001b[0m\u001b[1;33m\u001b[0m\u001b[0m\n",
      "\u001b[1;32m~\\AppData\\Local\\Temp/ipykernel_15712/2959208780.py\u001b[0m in \u001b[0;36mreplace_with_size\u001b[1;34m(dir)\u001b[0m\n\u001b[0;32m     11\u001b[0m             \u001b[0msize_sum\u001b[0m \u001b[1;33m+=\u001b[0m \u001b[0me\u001b[0m\u001b[1;33m\u001b[0m\u001b[1;33m\u001b[0m\u001b[0m\n\u001b[0;32m     12\u001b[0m         \u001b[1;32melse\u001b[0m\u001b[1;33m:\u001b[0m\u001b[1;33m\u001b[0m\u001b[1;33m\u001b[0m\u001b[0m\n\u001b[1;32m---> 13\u001b[1;33m             \u001b[0msize\u001b[0m \u001b[1;33m=\u001b[0m \u001b[0mint\u001b[0m\u001b[1;33m(\u001b[0m\u001b[0me\u001b[0m\u001b[1;33m.\u001b[0m\u001b[0msplit\u001b[0m\u001b[1;33m(\u001b[0m\u001b[1;34m\" \"\u001b[0m\u001b[1;33m)\u001b[0m\u001b[1;33m[\u001b[0m\u001b[1;36m0\u001b[0m\u001b[1;33m]\u001b[0m\u001b[1;33m)\u001b[0m\u001b[1;33m\u001b[0m\u001b[1;33m\u001b[0m\u001b[0m\n\u001b[0m\u001b[0;32m     14\u001b[0m             \u001b[0msize_sum\u001b[0m \u001b[1;33m+=\u001b[0m \u001b[0msize\u001b[0m\u001b[1;33m\u001b[0m\u001b[1;33m\u001b[0m\u001b[0m\n\u001b[0;32m     15\u001b[0m     \u001b[1;32mreturn\u001b[0m \u001b[0msize_sum\u001b[0m\u001b[1;33m\u001b[0m\u001b[1;33m\u001b[0m\u001b[0m\n",
      "\u001b[1;31mValueError\u001b[0m: invalid literal for int() with base 10: 'dir'"
     ]
    }
   ],
   "source": [
    "##### TEST AREA #####\n",
    "file_dir = create_file_dir()\n",
    "# find dir sizes\n",
    "# def create_size_dir():\n",
    "\n",
    "dirs_with_size = []\n",
    "# loop till no subdirs in any dir\n",
    "for i in range(20):    # i assume 100 is enough, this should change to some form of condition\n",
    "\n",
    "    # loop through dirs in d: 1. if dir has no subdirs: replace all elements with sum(file_size)\n",
    "    for dir in file_dir:\n",
    "        if not type(file_dir[dir]) == int and check_no_subdir(file_dir[dir]):\n",
    "            file_dir[dir] = replace_with_size(file_dir[dir])\n",
    "            dirs_with_size.append(dir)\n",
    "        # print(dirs_with_size)\n",
    "\n",
    "    # loop through dirs in d: 2. check for each subdir in dir if subdir has size assigned, if so: replace subdir with filesize\n",
    "    for dir in file_dir:\n",
    "        if not type(file_dir[dir]) == int:\n",
    "            i = 0\n",
    "            for e in file_dir[dir]:\n",
    "                subdir = e.split(\" \")[1]\n",
    "                if subdir in dirs_with_size:\n",
    "                    file_dir[dir][i] = file_dir[subdir]\n",
    "                i += 1\n",
    "        else: break\n",
    "            \n",
    "\n",
    "file_dir\n"
   ]
  },
  {
   "cell_type": "code",
   "execution_count": 8,
   "metadata": {},
   "outputs": [
    {
     "name": "stdout",
     "output_type": "stream",
     "text": [
      "['197903 hzl.jdj', '42249 wsbpzmbq.hws']\n",
      "['197903 hzl.jdj', 'test']\n"
     ]
    },
    {
     "ename": "ValueError",
     "evalue": "invalid literal for int() with base 10: 'test'",
     "output_type": "error",
     "traceback": [
      "\u001b[1;31m---------------------------------------------------------------------------\u001b[0m",
      "\u001b[1;31mValueError\u001b[0m                                Traceback (most recent call last)",
      "\u001b[1;32m~\\AppData\\Local\\Temp/ipykernel_15712/3793438011.py\u001b[0m in \u001b[0;36m<module>\u001b[1;34m\u001b[0m\n\u001b[0;32m      5\u001b[0m \u001b[0mprint\u001b[0m\u001b[1;33m(\u001b[0m\u001b[0msubdir\u001b[0m\u001b[1;33m)\u001b[0m\u001b[1;33m\u001b[0m\u001b[1;33m\u001b[0m\u001b[0m\n\u001b[0;32m      6\u001b[0m \u001b[1;32mif\u001b[0m \u001b[0mcheck_no_subdir\u001b[0m\u001b[1;33m(\u001b[0m\u001b[0msubdir\u001b[0m\u001b[1;33m)\u001b[0m\u001b[1;33m:\u001b[0m\u001b[1;33m\u001b[0m\u001b[1;33m\u001b[0m\u001b[0m\n\u001b[1;32m----> 7\u001b[1;33m     \u001b[0msubdir\u001b[0m \u001b[1;33m=\u001b[0m \u001b[0mreplace_with_size\u001b[0m\u001b[1;33m(\u001b[0m\u001b[0msubdir\u001b[0m\u001b[1;33m)\u001b[0m\u001b[1;33m\u001b[0m\u001b[1;33m\u001b[0m\u001b[0m\n\u001b[0m\u001b[0;32m      8\u001b[0m \u001b[0msubdir\u001b[0m\u001b[1;33m\u001b[0m\u001b[1;33m\u001b[0m\u001b[0m\n",
      "\u001b[1;32m~\\AppData\\Local\\Temp/ipykernel_15712/101850997.py\u001b[0m in \u001b[0;36mreplace_with_size\u001b[1;34m(dir)\u001b[0m\n\u001b[0;32m      7\u001b[0m     \u001b[0msize_sum\u001b[0m \u001b[1;33m=\u001b[0m \u001b[1;36m0\u001b[0m\u001b[1;33m\u001b[0m\u001b[1;33m\u001b[0m\u001b[0m\n\u001b[0;32m      8\u001b[0m     \u001b[1;32mfor\u001b[0m \u001b[0me\u001b[0m \u001b[1;32min\u001b[0m \u001b[0mdir\u001b[0m\u001b[1;33m:\u001b[0m\u001b[1;33m\u001b[0m\u001b[1;33m\u001b[0m\u001b[0m\n\u001b[1;32m----> 9\u001b[1;33m         \u001b[0msize\u001b[0m \u001b[1;33m=\u001b[0m \u001b[0mint\u001b[0m\u001b[1;33m(\u001b[0m\u001b[0me\u001b[0m\u001b[1;33m.\u001b[0m\u001b[0msplit\u001b[0m\u001b[1;33m(\u001b[0m\u001b[1;34m\" \"\u001b[0m\u001b[1;33m)\u001b[0m\u001b[1;33m[\u001b[0m\u001b[1;36m0\u001b[0m\u001b[1;33m]\u001b[0m\u001b[1;33m)\u001b[0m\u001b[1;33m\u001b[0m\u001b[1;33m\u001b[0m\u001b[0m\n\u001b[0m\u001b[0;32m     10\u001b[0m         \u001b[0msize_sum\u001b[0m \u001b[1;33m+=\u001b[0m \u001b[0msize\u001b[0m\u001b[1;33m\u001b[0m\u001b[1;33m\u001b[0m\u001b[0m\n\u001b[0;32m     11\u001b[0m     \u001b[1;32mreturn\u001b[0m \u001b[0msize_sum\u001b[0m\u001b[1;33m\u001b[0m\u001b[1;33m\u001b[0m\u001b[0m\n",
      "\u001b[1;31mValueError\u001b[0m: invalid literal for int() with base 10: 'test'"
     ]
    }
   ],
   "source": [
    "file_dir = create_file_dir()\n",
    "subdir = file_dir[\"lhrfs\"]\n",
    "print(subdir)\n",
    "subdir[1] = \"test\"\n",
    "print(subdir)\n",
    "if check_no_subdir(subdir):\n",
    "    subdir = replace_with_size(subdir)\n",
    "subdir\n"
   ]
  },
  {
   "cell_type": "code",
   "execution_count": null,
   "metadata": {},
   "outputs": [],
   "source": [
    "while True:\n",
    "    "
   ]
  },
  {
   "cell_type": "code",
   "execution_count": 1,
   "metadata": {},
   "outputs": [
    {
     "data": {
      "text/plain": [
       "['1', '2']"
      ]
     },
     "execution_count": 1,
     "metadata": {},
     "output_type": "execute_result"
    }
   ],
   "source": [
    "d = {\"/\": [\"lhrfs\", \"nwh\", \"pjsd\", \"qfrrtb\", \"f31987\"], \"lhrfs\": [\"f197903\", \"f42249\"]}\n",
    "\n",
    "x = d[\"/\"][0]\n",
    "d[x]\n",
    "\n",
    "d[\"/\"] = \"test\"\n",
    "d"
   ]
  },
  {
   "attachments": {},
   "cell_type": "markdown",
   "metadata": {},
   "source": [
    "### Part 2"
   ]
  },
  {
   "cell_type": "code",
   "execution_count": null,
   "metadata": {},
   "outputs": [],
   "source": []
  }
 ],
 "metadata": {
  "kernelspec": {
   "display_name": "Python 3.10.0 64-bit",
   "language": "python",
   "name": "python3"
  },
  "language_info": {
   "codemirror_mode": {
    "name": "ipython",
    "version": 3
   },
   "file_extension": ".py",
   "mimetype": "text/x-python",
   "name": "python",
   "nbconvert_exporter": "python",
   "pygments_lexer": "ipython3",
   "version": "3.10.0"
  },
  "orig_nbformat": 4,
  "vscode": {
   "interpreter": {
    "hash": "20ae1e9be96507da0a7fea2b168ac9de27cae9fa0084b35a7bd5c7bdc08eebfc"
   }
  }
 },
 "nbformat": 4,
 "nbformat_minor": 2
}
