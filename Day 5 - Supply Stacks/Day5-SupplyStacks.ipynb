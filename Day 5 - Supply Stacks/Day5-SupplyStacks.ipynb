{
 "cells": [
  {
   "cell_type": "markdown",
   "metadata": {},
   "source": [
    "# Day 5: Supply Stacks"
   ]
  },
  {
   "cell_type": "markdown",
   "metadata": {},
   "source": [
    "### Part 1\n",
    "\n",
    "*After the rearrangement procedure completes, what crate ends up on top of each stack?*"
   ]
  },
  {
   "cell_type": "code",
   "execution_count": null,
   "metadata": {},
   "outputs": [
    {
     "data": {
      "text/plain": [
       "'JDTMRWCQJ'"
      ]
     },
     "execution_count": 57,
     "metadata": {},
     "output_type": "execute_result"
    }
   ],
   "source": [
    "# Create lists from input\n",
    "l1 = [\"F\", \"H\", \"B\", \"V\", \"R\", \"Q\", \"D\", \"P\"]\n",
    "l2 = [\"L\", \"D\", \"Z\", \"Q\", \"W\", \"V\"]\n",
    "l3 = [\"H\", \"L\", \"Z\", \"Q\", \"G\", \"R\", \"P\", \"C\"]\n",
    "l4 = [\"R\", \"D\", \"H\", \"F\", \"J\", \"V\", \"B\"]\n",
    "l5 = [\"Z\", \"W\", \"L\", \"C\"]\n",
    "l6 = [\"J\", \"R\", \"P\", \"N\", \"T\", \"G\", \"V\", \"M\"]\n",
    "l7 = [\"J\", \"R\", \"L\", \"V\", \"M\", \"B\", \"S\"]\n",
    "l8 = [\"D\", \"P\", \"J\"]\n",
    "l9 = [\"D\", \"C\", \"N\", \"W\", \"V\"]\n",
    "\n",
    "# Function that can perform moves for the CrateMover 9000\n",
    "def move9000(l1,l2):\n",
    "    l2.append(l1.pop(-1))\n",
    "    return l1, l2\n",
    "\n",
    "# Function to create instructions\n",
    "def instructions(line):\n",
    "    line = line.rstrip()\n",
    "    w = line.split(\" \")\n",
    "    instr = list(filter(str.isdigit, w))\n",
    "    instr = [eval(i) for i in instr]\n",
    "    return instr\n",
    "\n",
    "# Check which crates are on top\n",
    "def checktop9000():\n",
    "    with open(\"input.txt\") as f:\n",
    "        lines = f.readlines()\n",
    "        for line in lines:\n",
    "            if \"move\" in line:\n",
    "                instr = instructions(line)  \n",
    "                for i in range(instr[0]):\n",
    "                    l1l = globals()[f\"l{instr[1]}\"] \n",
    "                    l2l = globals()[f\"l{instr[2]}\"]\n",
    "                    move9000(l1l, l2l)\n",
    "        a = \"\"\n",
    "        for i in range(1,10):\n",
    "            a += globals()[f\"l{i}\"].pop()\n",
    "    return a\n",
    "checktop9000()\n"
   ]
  },
  {
   "cell_type": "markdown",
   "metadata": {},
   "source": [
    "### Part 2\n",
    "\n",
    "*After the rearrangement procedure completes, what crate ends up on top of each stack?*"
   ]
  },
  {
   "cell_type": "code",
   "execution_count": 65,
   "metadata": {},
   "outputs": [
    {
     "data": {
      "text/plain": [
       "'PVCBCMSJV'"
      ]
     },
     "execution_count": 65,
     "metadata": {},
     "output_type": "execute_result"
    }
   ],
   "source": [
    "# Create lists from input\n",
    "l1 = [\"F\", \"H\", \"B\", \"V\", \"R\", \"Q\", \"D\", \"P\"]\n",
    "l2 = [\"L\", \"D\", \"Z\", \"Q\", \"W\", \"V\"]\n",
    "l3 = [\"H\", \"L\", \"Z\", \"Q\", \"G\", \"R\", \"P\", \"C\"]\n",
    "l4 = [\"R\", \"D\", \"H\", \"F\", \"J\", \"V\", \"B\"]\n",
    "l5 = [\"Z\", \"W\", \"L\", \"C\"]\n",
    "l6 = [\"J\", \"R\", \"P\", \"N\", \"T\", \"G\", \"V\", \"M\"]\n",
    "l7 = [\"J\", \"R\", \"L\", \"V\", \"M\", \"B\", \"S\"]\n",
    "l8 = [\"D\", \"P\", \"J\"]\n",
    "l9 = [\"D\", \"C\", \"N\", \"W\", \"V\"]\n",
    "\n",
    "# Function to create instructions\n",
    "def instructions(line):\n",
    "    line = line.rstrip()\n",
    "    w = line.split(\" \")\n",
    "    instr = list(filter(str.isdigit, w))\n",
    "    instr = [eval(i) for i in instr]\n",
    "    return instr\n",
    "\n",
    "# Function that can perform moves for the CrateMover 9001\n",
    "def move9001(n, l1, l2):\n",
    "    m = l1[n+1:]\n",
    "    l2 = l2 + m\n",
    "    l1 = l1[:n+1]\n",
    "    return l1, l2\n",
    "\n",
    "def checktop9001():\n",
    "    with open(\"input.txt\") as f:\n",
    "        lines = f.readlines()\n",
    "        for line in lines:\n",
    "            if \"move\" in line:\n",
    "                instr = instructions(line)  \n",
    "                l1l = globals()[f\"l{instr[1]}\"] \n",
    "                l2l = globals()[f\"l{instr[2]}\"]\n",
    "                move9001(instr[0], l1l, l2l)\n",
    "        a = \"\"\n",
    "        for i in range(1,10):\n",
    "            a += globals()[f\"l{i}\"].pop()\n",
    "    return a\n",
    "\n",
    "checktop9001()"
   ]
  },
  {
   "cell_type": "code",
   "execution_count": null,
   "metadata": {},
   "outputs": [
    {
     "name": "stdout",
     "output_type": "stream",
     "text": [
      "[1, 2, 3] [4, 5, 6, 7, 8, 4, 5]\n"
     ]
    }
   ],
   "source": [
    "l1 = [1,2,3,4,5]\n",
    "l2 = [4,5,6,7,8]\n",
    "n = 2\n",
    "\n",
    "def move9001(n, l1, l2):\n",
    "    m = l1[n+1:]\n",
    "    l2 = l2 + m\n",
    "    l1 = l1[:n+1]\n",
    "    return l1, l2\n",
    "\n",
    "move9001(n, l1, l2)"
   ]
  },
  {
   "cell_type": "code",
   "execution_count": null,
   "metadata": {},
   "outputs": [],
   "source": []
  }
 ],
 "metadata": {
  "kernelspec": {
   "display_name": "Python 3.10.0 64-bit",
   "language": "python",
   "name": "python3"
  },
  "language_info": {
   "codemirror_mode": {
    "name": "ipython",
    "version": 3
   },
   "file_extension": ".py",
   "mimetype": "text/x-python",
   "name": "python",
   "nbconvert_exporter": "python",
   "pygments_lexer": "ipython3",
   "version": "3.10.0"
  },
  "orig_nbformat": 4,
  "vscode": {
   "interpreter": {
    "hash": "20ae1e9be96507da0a7fea2b168ac9de27cae9fa0084b35a7bd5c7bdc08eebfc"
   }
  }
 },
 "nbformat": 4,
 "nbformat_minor": 2
}
