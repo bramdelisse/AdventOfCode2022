{
 "cells": [
  {
   "cell_type": "markdown",
   "metadata": {},
   "source": [
    "# Day 6: Tuning Trouble"
   ]
  },
  {
   "cell_type": "markdown",
   "metadata": {},
   "source": [
    "### Part 1\n",
    "\n",
    "*How many characters need to be processed before the first start-of-packet marker is detected?*"
   ]
  },
  {
   "cell_type": "code",
   "execution_count": 2,
   "metadata": {},
   "outputs": [
    {
     "name": "stdout",
     "output_type": "stream",
     "text": [
      "['t', 'j', 'l', 'm']\n"
     ]
    },
    {
     "data": {
      "text/plain": [
       "1541"
      ]
     },
     "execution_count": 2,
     "metadata": {},
     "output_type": "execute_result"
    }
   ],
   "source": [
    "def check_unique(l):\n",
    "    s = set(l)\n",
    "    return len(l) == len(s)\n",
    "\n",
    "def find_startermark():\n",
    "    with open(\"input.txt\") as f:\n",
    "        line = f.read()\n",
    "\n",
    "        l = []\n",
    "        for i in range(len(line)):\n",
    "            if len(l) < 4:\n",
    "                l += line[i]\n",
    "            if len(l) > 4:\n",
    "                print(\"list is too long\")\n",
    "                return False\n",
    "            # print(f\"for iteration {i}: l = {l}\")\n",
    "            if len(l) == 4:\n",
    "                if check_unique(l):\n",
    "                    print(l)\n",
    "                    return i\n",
    "                else:\n",
    "                    l = l[1:]\n",
    "    return \"No starter mark found\"\n",
    "\n",
    "i = find_startermark()\n",
    "i"
   ]
  },
  {
   "cell_type": "markdown",
   "metadata": {},
   "source": [
    "### Part 2\n",
    "\n",
    "**"
   ]
  },
  {
   "cell_type": "code",
   "execution_count": null,
   "metadata": {},
   "outputs": [],
   "source": []
  },
  {
   "cell_type": "markdown",
   "metadata": {},
   "source": [
    "## What I've learned"
   ]
  },
  {
   "cell_type": "markdown",
   "metadata": {},
   "source": []
  }
 ],
 "metadata": {
  "kernelspec": {
   "display_name": "Python 3.10.0 64-bit",
   "language": "python",
   "name": "python3"
  },
  "language_info": {
   "codemirror_mode": {
    "name": "ipython",
    "version": 3
   },
   "file_extension": ".py",
   "mimetype": "text/x-python",
   "name": "python",
   "nbconvert_exporter": "python",
   "pygments_lexer": "ipython3",
   "version": "3.10.0"
  },
  "orig_nbformat": 4,
  "vscode": {
   "interpreter": {
    "hash": "20ae1e9be96507da0a7fea2b168ac9de27cae9fa0084b35a7bd5c7bdc08eebfc"
   }
  }
 },
 "nbformat": 4,
 "nbformat_minor": 2
}
