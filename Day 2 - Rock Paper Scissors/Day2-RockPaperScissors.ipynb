{
 "cells": [
  {
   "cell_type": "markdown",
   "metadata": {},
   "source": [
    "# Day 2: Rock Paper Scissors"
   ]
  },
  {
   "cell_type": "markdown",
   "metadata": {},
   "source": [
    "### Part 1\n",
    "What would your total score be if everything goes exactly according to your strategy guide?"
   ]
  },
  {
   "cell_type": "code",
   "execution_count": 35,
   "metadata": {},
   "outputs": [
    {
     "data": {
      "text/plain": [
       "9651"
      ]
     },
     "execution_count": 35,
     "metadata": {},
     "output_type": "execute_result"
    }
   ],
   "source": [
    "# A: Rock       X\n",
    "# B: Paper      Y\n",
    "# C: Scissors   Z\n",
    "\n",
    "ABC = {\"A\": \"Rock\", \"B\": \"Paper\", \"C\": \"Scissors\"}\n",
    "XYZ = {\"X\": \"Rock\", \"Y\": \"Paper\", \"Z\": \"Scissors\"}\n",
    "scoring = {\"Rock\": 1, \"Paper\": 2, \"Scissors\": 3, \"Win\": 6, \"Draw\": 3, \"Loss\": 0}\n",
    "\n",
    "# function that returns what hand would [win, draw, loss]\n",
    "def my_hand(opp):\n",
    "    if ABC[opp] == \"Rock\":\n",
    "        win = \"Paper\"\n",
    "        loss = \"Scissors\"\n",
    "    if ABC[opp] == \"Paper\":\n",
    "        win = \"Scissors\"\n",
    "        loss = \"Rock\"\n",
    "    if ABC[opp] == \"Scissors\":\n",
    "        win = \"Rock\"\n",
    "        loss = \"Paper\"\n",
    "    my_hands = [win, ABC[opp], loss]\n",
    "    return my_hands\n",
    "\n",
    "total_score = 0\n",
    "with open(\"input.txt\") as f:\n",
    "    for line in f.readlines():\n",
    "        opp, me = line.split()\n",
    "        # Win\n",
    "        if XYZ[me] == my_hand(opp)[0]:\n",
    "            total_score += scoring[XYZ[me]] + scoring[\"Win\"]\n",
    "        # Draw\n",
    "        if XYZ[me] == my_hand(opp)[1]:\n",
    "            total_score += scoring[XYZ[me]] + scoring[\"Draw\"]\n",
    "        # Loss\n",
    "        if XYZ[me] == my_hand(opp)[2]:\n",
    "            total_score += scoring[XYZ[me]] + scoring[\"Loss\"]\n",
    "\n",
    "total_score"
   ]
  },
  {
   "cell_type": "markdown",
   "metadata": {},
   "source": [
    "### Part 2\n",
    "Following the Elf's instructions for the second column, what would your total score be if everything goes exactly according to your strategy guide?"
   ]
  },
  {
   "cell_type": "code",
   "execution_count": 39,
   "metadata": {},
   "outputs": [
    {
     "data": {
      "text/plain": [
       "10560"
      ]
     },
     "execution_count": 39,
     "metadata": {},
     "output_type": "execute_result"
    }
   ],
   "source": [
    "# A: Rock\n",
    "# B: Paper\n",
    "# C: Scissors\n",
    "\n",
    "# X: Lose\n",
    "# Y: Draw\n",
    "# Z: Win\n",
    "\n",
    "goals = {\"X\": \"Loss\", \"Y\": \"Draw\", \"Z\": \"Win\"}\n",
    "\n",
    "total_score = 0\n",
    "with open(\"input.txt\") as f:\n",
    "    for line in f.readlines():\n",
    "        opp, goal = line.split()\n",
    "        if goals[goal] == \"Win\":\n",
    "            total_score += scoring[my_hand(opp)[0]] + scoring[\"Win\"]\n",
    "        if goals[goal] == \"Draw\":\n",
    "            total_score += scoring[my_hand(opp)[1]] + scoring[\"Draw\"]\n",
    "        if goals[goal] == \"Loss\":\n",
    "            total_score += scoring[my_hand(opp)[2]] + scoring[\"Loss\"]\n",
    "        \n",
    "total_score"
   ]
  },
  {
   "cell_type": "markdown",
   "metadata": {},
   "source": [
    "## What did I learn?"
   ]
  },
  {
   "cell_type": "markdown",
   "metadata": {},
   "source": [
    "- Relearn the usefulness of functions\n",
    "- See the use of stop with the exercise, walk for a bit while thinking about it, and continue"
   ]
  }
 ],
 "metadata": {
  "kernelspec": {
   "display_name": "Python 3.10.0 64-bit",
   "language": "python",
   "name": "python3"
  },
  "language_info": {
   "codemirror_mode": {
    "name": "ipython",
    "version": 3
   },
   "file_extension": ".py",
   "mimetype": "text/x-python",
   "name": "python",
   "nbconvert_exporter": "python",
   "pygments_lexer": "ipython3",
   "version": "3.10.0"
  },
  "orig_nbformat": 4,
  "vscode": {
   "interpreter": {
    "hash": "20ae1e9be96507da0a7fea2b168ac9de27cae9fa0084b35a7bd5c7bdc08eebfc"
   }
  }
 },
 "nbformat": 4,
 "nbformat_minor": 2
}
